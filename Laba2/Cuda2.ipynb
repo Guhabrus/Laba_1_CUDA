{
  "nbformat": 4,
  "nbformat_minor": 0,
  "metadata": {
    "colab": {
      "name": "Cuda2.ipynb",
      "provenance": [],
      "collapsed_sections": []
    },
    "kernelspec": {
      "name": "python3",
      "display_name": "Python 3"
    },
    "language_info": {
      "name": "python"
    },
    "accelerator": "GPU"
  },
  "cells": [
    {
      "cell_type": "code",
      "metadata": {
        "id": "ZFKqpJq4bCSp"
      },
      "source": [
        "!apt-get --purge remove cuda nvidia* libnvidia-*\n",
        "!dpkg -l | grep cuda- | awk '{print $2}' | xargs -n1 dpkg --purge\n",
        "!apt-get remove cuda-*\n",
        "!apt autoremove\n",
        "!apt-get update"
      ],
      "execution_count": null,
      "outputs": []
    },
    {
      "cell_type": "code",
      "metadata": {
        "id": "BW6IATTqbwzv"
      },
      "source": [
        "!wget https://developer.nvidia.com/compute/cuda/9.2/Prod/local_installers/cuda-repo-ubuntu1604-9-2-local_9.2.88-1_amd64 -O cuda-repo-ubuntu1604-9-2-local_9.2.88-1_amd64.deb\n",
        "!dpkg -i cuda-repo-ubuntu1604-9-2-local_9.2.88-1_amd64.deb\n",
        "!apt-key add /var/cuda-repo-9-2-local/7fa2af80.pub\n",
        "!apt-get update\n",
        "!apt-get install cuda-9.2"
      ],
      "execution_count": null,
      "outputs": []
    },
    {
      "cell_type": "code",
      "metadata": {
        "id": "MpxReq5WeHyG"
      },
      "source": [
        "!nvcc --version"
      ],
      "execution_count": null,
      "outputs": []
    },
    {
      "cell_type": "code",
      "metadata": {
        "id": "R_2wDuLOeMHg"
      },
      "source": [
        "!pip install git+git://github.com/andreinechaev/nvcc4jupyter.git"
      ],
      "execution_count": null,
      "outputs": []
    },
    {
      "cell_type": "code",
      "metadata": {
        "id": "-z2TTlfGeWAz"
      },
      "source": [
        "%load_ext nvcc_plugin"
      ],
      "execution_count": null,
      "outputs": []
    },
    {
      "cell_type": "code",
      "metadata": {
        "colab": {
          "base_uri": "https://localhost:8080/"
        },
        "id": "jn0GAhCcebQn",
        "outputId": "597451f7-3530-47c4-cfb6-fabb332ff2a8"
      },
      "source": [
        "%%cu\n",
        "#include \"cuda_runtime.h\"\n",
        "#include \"device_launch_parameters.h\"\n",
        "#include \"device_functions.h\"\n",
        "#include <stdio.h>\n",
        "#include <fstream>\n",
        "\n",
        "//#include \"cpu_bitmap.h\"\n",
        "\n",
        "#define BLOCK_SIZE 2\n",
        "\n",
        "const int N = 2;\n",
        "\n",
        "__global__ void kernel(float * a, float * b, int n, float * c)\n",
        "{\n",
        "    int bx = blockIdx.x,    by = blockIdx.y;\n",
        "    int tx = threadIdx.x,   ty = threadIdx.y;\n",
        " \n",
        "    int aBegin  = n * BLOCK_SIZE * by;\n",
        "    int aEnd    = aBegin + n - 1;\n",
        " \n",
        "    int bBegin  = BLOCK_SIZE * bx;\n",
        "    int aStep   = BLOCK_SIZE, bStep   = BLOCK_SIZE * n;\n",
        "\n",
        "    float sum=0.0f;\n",
        "\n",
        "    for (int ia = aBegin, ib = bBegin; ia <= aEnd; ia += aStep, ib += bStep) \n",
        "    {\n",
        "\n",
        "        __shared__ float as[BLOCK_SIZE][BLOCK_SIZE];\n",
        "        __shared__ float bs[BLOCK_SIZE][BLOCK_SIZE];\n",
        "     \n",
        "        as[ty][tx] = a[ia + n * ty + tx];\n",
        "        bs[ty][tx] = b[ib + n * ty + tx];\n",
        "        __syncthreads();\n",
        "        for (int k = 0; k < BLOCK_SIZE; k++)\n",
        "            sum += as[ty][k] * bs[k][tx];\n",
        "        __syncthreads();\n",
        "\n",
        "    }\n",
        "\n",
        "    c[n * BLOCK_SIZE * by + BLOCK_SIZE * bx + n * ty + tx] = sum;\n",
        "\n",
        "}\n",
        "\n",
        "void CPU_keernel(float *a, float *b, int N, float *c)\n",
        "{\n",
        "\n",
        "    for (int i = 0; i < N; i++)\n",
        "    {\n",
        "        for (int j = 0; j < N; j++)\n",
        "        {\n",
        "            c[i*N + j] = 0;\n",
        "            for (int k = 0; k < N; k++) \n",
        "            {\n",
        "                c[i*N + j] += a[i*N + k] * b[k*N + j];\n",
        "            }\n",
        "        }\n",
        "    }\n",
        "}\n",
        "\n",
        "int main()\n",
        "{\n",
        "\n",
        "    float A[N][N];\n",
        "    float B[N][N];\n",
        "    for (int j = 0; j < N; j++)\n",
        "    {\n",
        "        for (int i = 0; i < N; i++)\n",
        "        {\n",
        "            A[j][i] = 3;//j * N + i;\n",
        "            B[j][i] = 25;//j * N * 2 + i * 2;\n",
        "        }\n",
        "    }\n",
        "    float C[N][N];\n",
        "\n",
        "    float *a = new float [N*N*sizeof(float)];\n",
        "    float *b = new float [N*N*sizeof(float)];\n",
        "    float *c = new float [N*N*sizeof(float)];\n",
        "\n",
        "    for (int j = 0; j < N; j++)\n",
        "    {\n",
        "        for (int i = 0; i < N; i++)\n",
        "        {\n",
        "            a[j*N + i] = A[j][i];\n",
        "            b[j*N + i] = B[j][i];\n",
        "        }\n",
        "    }\n",
        "\n",
        "    float *dev_a, *dev_b, *dev_c;\n",
        "    dim3 threads(BLOCK_SIZE, BLOCK_SIZE);\n",
        "\n",
        "   \n",
        "    dim3 blocks((N/ threads.x), (N / threads.y));\n",
        "    \n",
        "\n",
        "    cudaMalloc((void**)&dev_a, N*N * sizeof(float));\n",
        "\n",
        "    cudaMalloc((void**)&dev_b, N*N * sizeof(float));\n",
        "    cudaMalloc((void**)&dev_c, N*N * sizeof(float));\n",
        "\n",
        "//copy\n",
        "\n",
        "    cudaMemcpy(dev_a, a, N*N * sizeof(float), cudaMemcpyHostToDevice);\n",
        "\n",
        "    cudaMemcpy(dev_b, b, N*N * sizeof(float), cudaMemcpyHostToDevice);\n",
        "\n",
        "    cudaEvent_t start, stop;\n",
        "\n",
        "    float gpu_time = 0.0;\n",
        "\n",
        "    cudaEventCreate(&start);\n",
        "    cudaEventCreate(&stop);\n",
        "    cudaEventRecord(start, 0);\n",
        " \n",
        "    kernel << <blocks, threads >> > (dev_a, dev_b, N, dev_c);\n",
        "    \n",
        "    cudaEventRecord(stop, 0);\n",
        "    cudaEventSynchronize(stop);\n",
        "    cudaEventElapsedTime(&gpu_time, start, stop);\n",
        "    printf(\"time on gpu = %2fmiliseconds\\n\\n\", gpu_time);\n",
        "    cudaEventDestroy(start);\n",
        "    cudaEventDestroy(stop);\n",
        "    \n",
        "    cudaMemcpy(c, dev_c, N*N * sizeof(float), cudaMemcpyDeviceToHost);\n",
        "\n",
        "    for (int j = 0; j < N; j++)\n",
        "    {\n",
        "        for (int i = 0; i < N; i++)\n",
        "        {\n",
        "            C[j][i] = c[j*N + i];\n",
        "        }   \n",
        "    }\n",
        "    double nn1 = pow(10,10);\n",
        "    double nn2 = pow(10,10);\n",
        "    \n",
        "    for (int j = 0; j < N; j++)\n",
        "    {\n",
        "        for (int i = 0; i < N; i++)\n",
        "        {\n",
        "            printf(\" %2.f\",C[j][i]*nn1*nn2);\n",
        "        }\n",
        "\n",
        "        printf(\"\\n\\n\");\n",
        "    }\n",
        "\n",
        "    cudaFree(dev_a);\n",
        "    cudaFree(dev_b);\n",
        "    cudaFree(dev_c);\n",
        "\n",
        "    delete[] a;\n",
        "    delete[] b;\n",
        "    delete[] c;\n",
        "\n",
        "    return 0;\n",
        "\n",
        "}"
      ],
      "execution_count": 33,
      "outputs": [
        {
          "output_type": "stream",
          "name": "stdout",
          "text": [
            "time on gpu = 0.130336miliseconds\n",
            "\n",
            " 150000000000000000000000000000000000000000000000000000000000000000000000000000000000000000000000000000 150000000000000000000000000000000000000000000000000000000000000000000000000000000000000000000000000000\n",
            "\n",
            " 150000000000000000000000000000000000000000000000000000000000000000000000000000000000000000000000000000 150000000000000000000000000000000000000000000000000000000000000000000000000000000000000000000000000000\n",
            "\n",
            "\n"
          ]
        }
      ]
    },
    {
      "cell_type": "code",
      "metadata": {
        "id": "m-cMDMBVj0pr"
      },
      "source": [
        ""
      ],
      "execution_count": null,
      "outputs": []
    }
  ]
}