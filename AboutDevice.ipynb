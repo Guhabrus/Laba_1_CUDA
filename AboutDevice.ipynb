{
  "nbformat": 4,
  "nbformat_minor": 0,
  "metadata": {
    "accelerator": "GPU",
    "colab": {
      "name": "AboutDevice.ipynb",
      "provenance": [],
      "collapsed_sections": [],
      "authorship_tag": "ABX9TyPL8I6xOndlHbMgOZtyJQ9f",
      "include_colab_link": true
    },
    "kernelspec": {
      "display_name": "Python 3",
      "name": "python3"
    },
    "language_info": {
      "name": "python"
    }
  },
  "cells": [
    {
      "cell_type": "markdown",
      "metadata": {
        "id": "view-in-github",
        "colab_type": "text"
      },
      "source": [
        "<a href=\"https://colab.research.google.com/github/Guhabrus/Laba_1_CUDA/blob/main/AboutDevice.ipynb\" target=\"_parent\"><img src=\"https://colab.research.google.com/assets/colab-badge.svg\" alt=\"Open In Colab\"/></a>"
      ]
    },
    {
      "cell_type": "code",
      "metadata": {
        "id": "QgsnOo16JSZx"
      },
      "source": [
        ""
      ],
      "execution_count": null,
      "outputs": []
    },
    {
      "cell_type": "code",
      "metadata": {
        "colab": {
          "base_uri": "https://localhost:8080/"
        },
        "id": "-ebKmOxMKjgR",
        "outputId": "bd986c1b-2753-4adf-a14d-37d5949f64d6"
      },
      "source": [
        "!pip install git+git://github.com/andreinechaev/nvcc4jupyter.git\n",
        "%load_ext nvcc_plugin"
      ],
      "execution_count": 9,
      "outputs": [
        {
          "output_type": "stream",
          "name": "stdout",
          "text": [
            "Collecting git+git://github.com/andreinechaev/nvcc4jupyter.git\n",
            "  Cloning git://github.com/andreinechaev/nvcc4jupyter.git to /tmp/pip-req-build-19xxjgki\n",
            "  Running command git clone -q git://github.com/andreinechaev/nvcc4jupyter.git /tmp/pip-req-build-19xxjgki\n",
            "The nvcc_plugin extension is already loaded. To reload it, use:\n",
            "  %reload_ext nvcc_plugin\n"
          ]
        }
      ]
    },
    {
      "cell_type": "code",
      "metadata": {
        "colab": {
          "base_uri": "https://localhost:8080/"
        },
        "id": "W959ZYszK7df",
        "outputId": "c86e7613-24e4-4b63-ab40-8fed8bc01bb8"
      },
      "source": [
        "%%cu\n",
        "#include \"cuda_runtime.h\"\n",
        "#include \"device_launch_parameters.h\"\n",
        "#include \"device_functions.h\"\n",
        "#include <stdio.h>\n",
        "#include <fstream>\n",
        "//#include \"../common/cpu_bitmap.h\"\n",
        "\n",
        "\n",
        "\n",
        "\n",
        "\n",
        "int main(void)\n",
        "{\n",
        "\tcudaDeviceProp prop;\n",
        " \n",
        "    int count;\n",
        "    cudaGetDeviceCount(&count);\n",
        " \n",
        "    for(int i=0;i<count;i++)\n",
        "    {\n",
        "        cudaGetDeviceProperties(&prop, i);\n",
        "\n",
        "        printf(\"--Общая информация об устройстве %d --\\n\", i);\n",
        "        printf(\"Имя: %s\\n\", prop.name);\n",
        "        \n",
        "        printf(\"Тактовая частота %d\\n\", prop.clockRate);\n",
        "        printf(\"Всего глобальной памяти %ld;\\n\", prop.totalGlobalMem);\n",
        "        printf(\"Всего константной памяти %ld;\\n\", prop.totalConstMem);\n",
        "        printf(\"Разделяемая память на один МП %ld\\n\", prop.sharedMemPerBlock);\n",
        "        printf(\"Регистр на один МП %d\\n\", prop.regsPerBlock);\n",
        "        printf(\"Нитей в варпе %d\\n\", prop.warpSize);\n",
        "        printf(\"Макс количество нитей в блоке МП %d\\n\", prop.maxThreadsPerBlock);\n",
        "    }\n",
        "\treturn 0;\n",
        "}\n",
        "\n"
      ],
      "execution_count": 19,
      "outputs": [
        {
          "output_type": "stream",
          "name": "stdout",
          "text": [
            "--Общая информация об устройстве 0 --\n",
            "Имя: Tesla K80\n",
            "Тактовая частота 823500\n",
            "Всего глобальной памяти 11996954624;\n",
            "Всего константной памяти 65536;\n",
            "Разделяемая память на один МП 49152\n",
            "Регистр на один МП 65536\n",
            "Нитей в варпе 32\n",
            "Макс количество нитей в блоке МП 1024\n",
            "\n"
          ]
        }
      ]
    },
    {
      "cell_type": "code",
      "metadata": {
        "id": "5yhrt8hlfev3"
      },
      "source": [
        ""
      ],
      "execution_count": null,
      "outputs": []
    }
  ]
}