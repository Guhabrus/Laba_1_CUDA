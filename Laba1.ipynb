{
  "nbformat": 4,
  "nbformat_minor": 0,
  "metadata": {
    "accelerator": "GPU",
    "colab": {
      "name": "Laba1.ipynb",
      "provenance": [],
      "collapsed_sections": [],
      "authorship_tag": "ABX9TyPWevTZjAbF/QJ/AEIoyFbP",
      "include_colab_link": true
    },
    "kernelspec": {
      "display_name": "Python 3",
      "name": "python3"
    },
    "language_info": {
      "name": "python"
    }
  },
  "cells": [
    {
      "cell_type": "markdown",
      "metadata": {
        "id": "view-in-github",
        "colab_type": "text"
      },
      "source": [
        "<a href=\"https://colab.research.google.com/github/Guhabrus/Laba_1_CUDA/blob/main/Laba1.ipynb\" target=\"_parent\"><img src=\"https://colab.research.google.com/assets/colab-badge.svg\" alt=\"Open In Colab\"/></a>"
      ]
    },
    {
      "cell_type": "code",
      "metadata": {
        "id": "QgsnOo16JSZx"
      },
      "source": [
        ""
      ],
      "execution_count": null,
      "outputs": []
    },
    {
      "cell_type": "code",
      "metadata": {
        "colab": {
          "base_uri": "https://localhost:8080/"
        },
        "id": "-ebKmOxMKjgR",
        "outputId": "b0cb91d6-94d8-4262-d8b9-d8a563774b6e"
      },
      "source": [
        "!pip install git+git://github.com/andreinechaev/nvcc4jupyter.git\n",
        "%load_ext nvcc_plugin"
      ],
      "execution_count": 1,
      "outputs": [
        {
          "output_type": "stream",
          "name": "stdout",
          "text": [
            "Collecting git+git://github.com/andreinechaev/nvcc4jupyter.git\n",
            "  Cloning git://github.com/andreinechaev/nvcc4jupyter.git to /tmp/pip-req-build-olf_k2j2\n",
            "  Running command git clone -q git://github.com/andreinechaev/nvcc4jupyter.git /tmp/pip-req-build-olf_k2j2\n",
            "Building wheels for collected packages: NVCCPlugin\n",
            "  Building wheel for NVCCPlugin (setup.py) ... \u001b[?25l\u001b[?25hdone\n",
            "  Created wheel for NVCCPlugin: filename=NVCCPlugin-0.0.2-py3-none-any.whl size=4305 sha256=0edc49a954e6901d16d9b24aaec4a0f9c1a86d22dd2b7b79fda95ab5bcf6ca93\n",
            "  Stored in directory: /tmp/pip-ephem-wheel-cache-a6p626xc/wheels/c5/2b/c0/87008e795a14bbcdfc7c846a00d06981916331eb980b6c8bdf\n",
            "Successfully built NVCCPlugin\n",
            "Installing collected packages: NVCCPlugin\n",
            "Successfully installed NVCCPlugin-0.0.2\n",
            "created output directory at /content/src\n",
            "Out bin /content/result.out\n"
          ]
        }
      ]
    },
    {
      "cell_type": "code",
      "metadata": {
        "colab": {
          "base_uri": "https://localhost:8080/"
        },
        "id": "W959ZYszK7df",
        "outputId": "a9ca91ac-ec9e-4e53-c116-fe26e212d8fd"
      },
      "source": [
        "%%cu\n",
        "#include \"cuda_runtime.h\"\n",
        "#include \"device_launch_parameters.h\"\n",
        "#include \"device_functions.h\"\n",
        "#include <stdio.h>\n",
        "#include <fstream>\n",
        "//#include \"../common/cpu_bitmap.h\"\n",
        "\n",
        "\n",
        "\n",
        "\n",
        "\n",
        "const int Count = 65532;                           //кол-во выводимых чисел\n",
        "\n",
        "__global__ void printMessagdeGPU(int *a)          //Функция выполняема на GPU\n",
        "{\n",
        "    int Value = threadIdx.x + blockIdx.x * blockDim.x ;\n",
        "    if(Value <= Count)\n",
        "    {\n",
        "        printf(\"ValueGPU = %d;\\n\", a[Value]);\n",
        "    }\n",
        "    \n",
        "}\n",
        "\n",
        "void printMessageCPU()                      //Функция выполняемая на CPU\n",
        "{\n",
        "    for(int i=0;i<Count; i++)\n",
        "    {\n",
        "        printf(\"ValueCPU = %d;\\n\", i);\n",
        "    }\n",
        "}\n",
        "\n",
        "\n",
        "int main(void)\n",
        "{\n",
        "\n",
        "\n",
        "    int a[Count];\n",
        "    int *dev_a;\n",
        " \n",
        "    cudaMalloc((void**)&dev_a, Count*sizeof(int));\n",
        " \n",
        "    cudaMemcpy(dev_a, a , Count*sizeof(int), cudaMemcpyHostToDevice);\n",
        "\n",
        "\tcudaEvent_t start, stop;\n",
        "\tfloat gpu_time = 0.0;\n",
        "\tcudaEventCreate(&start);\n",
        "\tcudaEventCreate(&stop);\n",
        "\tcudaEventRecord(start, 0);\n",
        " \n",
        "    printMessagdeGPU<<< (Count+1023)/1024 , 1024 >>>(dev_a);\n",
        " \n",
        "    cudaEventRecord(stop, 0);\n",
        "\tcudaEventSynchronize(stop);\n",
        "\tcudaEventElapsedTime(&gpu_time, start, stop);\n",
        "\t\n",
        "\tcudaEventDestroy(start);\n",
        "\tcudaEventDestroy(stop);\n",
        "    printf(\"time = %2fmiliseconds;\",gpu_time);\n",
        "   \n",
        "    cudaFree(dev_a);\n",
        "\n",
        "\n",
        "\treturn 0;\n",
        "}"
      ],
      "execution_count": 16,
      "outputs": [
        {
          "output_type": "stream",
          "name": "stdout",
          "text": [
            "time = 0.004000miliseconds;\n"
          ]
        }
      ]
    },
    {
      "cell_type": "code",
      "metadata": {
        "id": "5yhrt8hlfev3"
      },
      "source": [
        ""
      ],
      "execution_count": null,
      "outputs": []
    }
  ]
}