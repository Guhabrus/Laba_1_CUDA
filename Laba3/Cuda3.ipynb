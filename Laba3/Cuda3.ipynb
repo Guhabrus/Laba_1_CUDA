{
  "nbformat": 4,
  "nbformat_minor": 0,
  "metadata": {
    "colab": {
      "name": "Cuda3.ipynb",
      "provenance": [],
      "collapsed_sections": []
    },
    "kernelspec": {
      "name": "python3",
      "display_name": "Python 3"
    },
    "language_info": {
      "name": "python"
    },
    "accelerator": "GPU"
  },
  "cells": [
    {
      "cell_type": "code",
      "metadata": {
        "id": "ZFKqpJq4bCSp"
      },
      "source": [
        "!apt-get --purge remove cuda nvidia* libnvidia-*\n",
        "!dpkg -l | grep cuda- | awk '{print $2}' | xargs -n1 dpkg --purge\n",
        "!apt-get remove cuda-*\n",
        "!apt autoremove\n",
        "!apt-get update"
      ],
      "execution_count": null,
      "outputs": []
    },
    {
      "cell_type": "code",
      "metadata": {
        "colab": {
          "base_uri": "https://localhost:8080/"
        },
        "id": "BW6IATTqbwzv",
        "outputId": "15fbf2a8-4163-471f-d2e4-98d170010ed5"
      },
      "source": [
        "!wget https://developer.nvidia.com/compute/cuda/9.2/Prod/local_installers/cuda-repo-ubuntu1604-9-2-local_9.2.88-1_amd64 -O cuda-repo-ubuntu1604-9-2-local_9.2.88-1_amd64.deb\n",
        "!dpkg -i cuda-repo-ubuntu1604-9-2-local_9.2.88-1_amd64.deb\n",
        "!apt-key add /var/cuda-repo-9-2-local/7fa2af80.pub\n",
        "!apt-get update\n",
        "!apt-get install cuda-9.2"
      ],
      "execution_count": 3,
      "outputs": [
        {
          "output_type": "stream",
          "name": "stdout",
          "text": [
            "--2021-11-24 16:44:40--  https://developer.nvidia.com/compute/cuda/9.2/Prod/local_installers/cuda-repo-ubuntu1604-9-2-local_9.2.88-1_amd64\n",
            "Resolving developer.nvidia.com (developer.nvidia.com)... 152.195.19.142\n",
            "Connecting to developer.nvidia.com (developer.nvidia.com)|152.195.19.142|:443... connected.\n",
            "HTTP request sent, awaiting response... 301 Moved Permanently\n",
            "Location: https://developer.nvidia.com/compute/cuda/9.2/prod/local_installers/cuda-repo-ubuntu1604-9-2-local_9.2.88-1_amd64 [following]\n",
            "--2021-11-24 16:44:40--  https://developer.nvidia.com/compute/cuda/9.2/prod/local_installers/cuda-repo-ubuntu1604-9-2-local_9.2.88-1_amd64\n",
            "Reusing existing connection to developer.nvidia.com:443.\n",
            "HTTP request sent, awaiting response... 302 Found\n",
            "Location: https://developer.download.nvidia.com/compute/cuda/9.2/secure/Prod/local_installers/cuda-repo-ubuntu1604-9-2-local_9.2.88-1_amd64.deb?bmOE6S0CqcrguHbheLyBpLJWlxUVSIfZO2o_a1Inzoe-mStvZPQQz-P0OhDEAcEFGrLDDPhs2O3xKv7AP8Udvi9HPhlaLW1uIf5wEQHdOROE6glMlxEXMAsUYjooq3mkHrOaLSBZ99W8rX4aYdOZiHLh7wwta9NkRZ-J-Neb7UF0_b96OcZnFF866TyhZwsOKxkKVSZdJZd3EG6X39Q [following]\n",
            "--2021-11-24 16:44:40--  https://developer.download.nvidia.com/compute/cuda/9.2/secure/Prod/local_installers/cuda-repo-ubuntu1604-9-2-local_9.2.88-1_amd64.deb?bmOE6S0CqcrguHbheLyBpLJWlxUVSIfZO2o_a1Inzoe-mStvZPQQz-P0OhDEAcEFGrLDDPhs2O3xKv7AP8Udvi9HPhlaLW1uIf5wEQHdOROE6glMlxEXMAsUYjooq3mkHrOaLSBZ99W8rX4aYdOZiHLh7wwta9NkRZ-J-Neb7UF0_b96OcZnFF866TyhZwsOKxkKVSZdJZd3EG6X39Q\n",
            "Resolving developer.download.nvidia.com (developer.download.nvidia.com)... 152.195.19.142\n",
            "Connecting to developer.download.nvidia.com (developer.download.nvidia.com)|152.195.19.142|:443... connected.\n",
            "HTTP request sent, awaiting response... 200 OK\n",
            "Length: 1267391958 (1.2G) [application/x-deb]\n",
            "Saving to: ‘cuda-repo-ubuntu1604-9-2-local_9.2.88-1_amd64.deb’\n",
            "\n",
            "cuda-repo-ubuntu160 100%[===================>]   1.18G   150MB/s    in 8.0s    \n",
            "\n",
            "2021-11-24 16:44:48 (151 MB/s) - ‘cuda-repo-ubuntu1604-9-2-local_9.2.88-1_amd64.deb’ saved [1267391958/1267391958]\n",
            "\n",
            "(Reading database ... 124492 files and directories currently installed.)\n",
            "Preparing to unpack cuda-repo-ubuntu1604-9-2-local_9.2.88-1_amd64.deb ...\n",
            "Unpacking cuda-repo-ubuntu1604-9-2-local (9.2.88-1) over (9.2.88-1) ...\n",
            "Setting up cuda-repo-ubuntu1604-9-2-local (9.2.88-1) ...\n",
            "OK\n",
            "Get:1 file:/var/cuda-repo-9-2-local  InRelease\n",
            "Ign:1 file:/var/cuda-repo-9-2-local  InRelease\n",
            "Get:2 file:/var/cuda-repo-9-2-local  Release [574 B]\n",
            "Get:2 file:/var/cuda-repo-9-2-local  Release [574 B]\n",
            "Hit:3 https://cloud.r-project.org/bin/linux/ubuntu bionic-cran40/ InRelease\n",
            "Hit:4 http://security.ubuntu.com/ubuntu bionic-security InRelease\n",
            "Ign:5 https://developer.download.nvidia.com/compute/cuda/repos/ubuntu1804/x86_64  InRelease\n",
            "Ign:7 https://developer.download.nvidia.com/compute/machine-learning/repos/ubuntu1804/x86_64  InRelease\n",
            "Hit:8 https://developer.download.nvidia.com/compute/cuda/repos/ubuntu1804/x86_64  Release\n",
            "Hit:9 https://developer.download.nvidia.com/compute/machine-learning/repos/ubuntu1804/x86_64  Release\n",
            "Hit:10 http://ppa.launchpad.net/c2d4u.team/c2d4u4.0+/ubuntu bionic InRelease\n",
            "Hit:11 http://archive.ubuntu.com/ubuntu bionic InRelease\n",
            "Hit:12 http://archive.ubuntu.com/ubuntu bionic-updates InRelease\n",
            "Hit:13 http://ppa.launchpad.net/cran/libgit2/ubuntu bionic InRelease\n",
            "Hit:14 http://archive.ubuntu.com/ubuntu bionic-backports InRelease\n",
            "Hit:15 http://ppa.launchpad.net/deadsnakes/ppa/ubuntu bionic InRelease\n",
            "Hit:17 http://ppa.launchpad.net/graphics-drivers/ppa/ubuntu bionic InRelease\n",
            "Reading package lists... Done\n",
            "Reading package lists... Done\n",
            "Building dependency tree       \n",
            "Reading state information... Done\n",
            "Note, selecting 'cuda-9-2' for regex 'cuda-9.2'\n",
            "Note, selecting 'libcuda-9.2-1' for regex 'cuda-9.2'\n",
            "cuda-9-2 is already the newest version (9.2.88-1).\n",
            "0 upgraded, 0 newly installed, 0 to remove and 37 not upgraded.\n"
          ]
        }
      ]
    },
    {
      "cell_type": "code",
      "metadata": {
        "id": "MpxReq5WeHyG"
      },
      "source": [
        "!nvcc --version"
      ],
      "execution_count": null,
      "outputs": []
    },
    {
      "cell_type": "code",
      "metadata": {
        "id": "R_2wDuLOeMHg"
      },
      "source": [
        "!pip install git+git://github.com/andreinechaev/nvcc4jupyter.git"
      ],
      "execution_count": null,
      "outputs": []
    },
    {
      "cell_type": "code",
      "metadata": {
        "colab": {
          "base_uri": "https://localhost:8080/"
        },
        "id": "-z2TTlfGeWAz",
        "outputId": "028d6d41-94f8-41ee-fd46-85a87441c769"
      },
      "source": [
        "%load_ext nvcc_plugin"
      ],
      "execution_count": 6,
      "outputs": [
        {
          "output_type": "stream",
          "name": "stdout",
          "text": [
            "created output directory at /content/src\n",
            "Out bin /content/result.out\n"
          ]
        }
      ]
    },
    {
      "cell_type": "code",
      "metadata": {
        "colab": {
          "base_uri": "https://localhost:8080/"
        },
        "id": "jn0GAhCcebQn",
        "outputId": "af312da0-2a39-431c-f101-0b1c7a2df6fe"
      },
      "source": [
        "%%cu\n",
        "\n",
        "\n",
        "#include \"cuda_runtime.h\"\n",
        "#include \"device_launch_parameters.h\"\n",
        "#include \"device_functions.h\"\n",
        "#include <thrust/device_vector.h>\n",
        "#include <stdio.h>\n",
        "#include <math.h>\n",
        "\n",
        "#define EPSILON \t\t\t\t 0.01\n",
        "#define SIZE_INTERVAL\t\t\t 100\n",
        "#define START_INTERVAL_RESEARCH -10\n",
        "#define STOP_INTERVAL_RESEARCH   10\n",
        "#define THREADS_PER_BLOCK\t\t 3\n",
        "\n",
        "#define INTERVAL (STOP_INTERVAL_RESEARCH - START_INTERVAL_RESEARCH)\n",
        "\n",
        "\n",
        "\n",
        "/* функция корни которой необходимо найти */\n",
        "__device__ double CalculateFancshion(double x)\n",
        "{\n",
        "\treturn  tan(1.9*x) - 2.8*x;\n",
        "}\n",
        "typedef struct\n",
        "{\n",
        "\tdouble x;\n",
        "    bool input;\n",
        "} CalcBody;\n",
        "\n",
        "\n",
        "/*Реализация на СЗГ*/\n",
        "void CPU_realization(double *x)\n",
        "{\n",
        "\tdouble a, b, c;\n",
        "\ta = START_INTERVAL_RESEARCH;//задаём границы исчесления\n",
        "\tb = STOP_INTERVAL_RESEARCH;\n",
        "\twhile (b - a > epsilon) // начинаем цикл с условием выхода когда разница между правой и левой границей меньше эпсилон\n",
        "\t{\n",
        "\t\tc = (a + b) / 2;//середина отрезка\t\t\n",
        "\t\tif (CalculateFancshion(b) * fCalculateFancshion(c) < 0)// условия в какую сторону двигаться\n",
        "\t\t\tb = c;\n",
        "\t\telse\n",
        "\t\t\ta = c;\n",
        "\t}\t\n",
        "\t*x = (a + b) / 2;\n",
        "}\n",
        "/*функция реализующая метод половинного деления*/\n",
        "__global__ void GPU_realization(CalcBody* body_structure, double dx, double start)\n",
        "{\n",
        "\t__shared__ double flag_temp[3];\n",
        "\t__shared__ double value[3];\n",
        "\tvalue[threadIdx.x] = (blockIdx.x * dx + threadIdx.x * dx * 0.5) + start;\n",
        "\tif (GPU_realization(value[threadIdx.x]) == 0)\n",
        "\t\tbody_structure[blockIdx.x].x = 0.;\n",
        "\t__syncthreads();\n",
        "\twhile (true) \n",
        "\t{\n",
        "\t\tif (GPU_realization(value[threadIdx.x]) < 0)\n",
        "\t\t\tflag_temp[threadIdx.x] = 0;\n",
        "\t\telse\n",
        "\t\t\tflag_temp[threadIdx.x] = 1;\n",
        "\t\t__syncthreads();\n",
        "\t\tif(flag_temp[threadIdx.x] == 1)\n",
        "\t\t{\n",
        "\t\t\tif (abs(value[threadIdx.x + 1] - value[threadIdx.x - 1]) < EPSILON)\n",
        "\t\t\t{\n",
        "\t\t\t\tbody_structure[blockIdx.x].x = value[threadIdx.x];\n",
        "                body_structure[blockIdx.x].input = true;\n",
        "\t\t\t\tbreak;\n",
        "\t\t\t}\n",
        "\t\t\tif (flag_temp[threadIdx.x - 1] != flag_temp[threadIdx.x])\n",
        "\t\t\t{\n",
        "\t\t\t\tvalue[threadIdx.x + 1] = value[threadIdx.x];\n",
        "\t\t\t\tvalue[threadIdx.x] = (value[threadIdx.x - 1] + value[threadIdx.x + 1]) / 2;\n",
        "\t\t\t}\n",
        "\t\t\telse if (flag_temp[threadIdx.x + 1] != flag_temp[threadIdx.x])\n",
        "\t\t\t{\n",
        "\t\t\t\tvalue[threadIdx.x - 1] = value[threadIdx.x];\n",
        "\t\t\t\tvalue[threadIdx.x] = (value[threadIdx.x - 1] + value[threadIdx.x + 1]) / 2;\n",
        " \t\t\t}\n",
        "\t\t\n",
        " \t\t}\n",
        " \t}\n",
        " }\n",
        "\n",
        "\n",
        "int main()\n",
        "{\n",
        "\tsetlocale(LC_ALL, \"ru\");\n",
        "\tthrust::device_vector<CalcBody>  vector(SIZE_INTERVAL);\n",
        "\tdouble dx = INTERVAL / SIZE_INTERVAL;\n",
        "\n",
        "\tcudaEvent_t start, stop;\n",
        "\tfloat gpu_time = 0.0;\n",
        "\tcudaEventCreate(&start);\n",
        "\tcudaEventCreate(&stop);\n",
        "\tcudaEventRecord(start, 0);\n",
        "\n",
        "\tCalc_metod_polovin << <SIZE_INTERVAL, THREADS_PER_BLOCK >> > (thrust::raw_pointer_cast(& vector[0]), dx, START_INTERVAL_RESEARCH);\n",
        "\n",
        "\tcudaEventRecord(stop, 0);\n",
        "\tcudaEventSynchronize(stop);\n",
        "\tcudaEventElapsedTime(&gpu_time, start, stop);\n",
        "\n",
        "\tcudaEventDestroy(start);\n",
        "\tcudaEventDestroy(stop);\n",
        "\tprintf(\"\\ntime = %2fmiliseconds;\", gpu_time);\n",
        "\tprintf(\"Корни уравнения ровняются:\\n\")\n",
        "\tfor (int i = 0; i < SIZE_INTERVAL; i++)\n",
        "\t{\n",
        "\t\tCalcBody body = vector[i];\n",
        "\t\tif (body.input)\n",
        "\t\t{\n",
        "\t\t\tprintf(\"x [%d] = %f\\n\", i, r.val);\n",
        "\t\t}\n",
        "\t}\n",
        " \n",
        "\n",
        "\treturn 0;\n",
        "}"
      ],
      "execution_count": 13,
      "outputs": [
        {
          "output_type": "stream",
          "name": "stdout",
          "text": [
            "\n",
            "time = 0.004520miliseconds;Корни уравнения ровняются:\n",
            "x[23] = -0.499300\n",
            "x[49] = 0.001300\n",
            "x[76] = 0.500400\n",
            "\n"
          ]
        }
      ]
    },
    {
      "cell_type": "code",
      "metadata": {
        "id": "m-cMDMBVj0pr"
      },
      "source": [
        ""
      ],
      "execution_count": null,
      "outputs": []
    }
  ]
}